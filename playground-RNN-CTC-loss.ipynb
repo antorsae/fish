{
 "cells": [
  {
   "cell_type": "markdown",
   "metadata": {},
   "source": [
    "Playground to play with CTC loss function and explore a proxy signal (saw) to be used alternatively to CTC loss (w/ MSE)"
   ]
  },
  {
   "cell_type": "code",
   "execution_count": 43,
   "metadata": {
    "collapsed": true
   },
   "outputs": [],
   "source": [
    "import torch\n",
    "from torch.autograd import Variable\n",
    "from warpctc_pytorch import CTCLoss\n",
    "\n",
    "import matplotlib.pyplot as plt\n",
    "%matplotlib inline\n"
   ]
  },
  {
   "cell_type": "code",
   "execution_count": 12,
   "metadata": {},
   "outputs": [
    {
     "name": "stdout",
     "output_type": "stream",
     "text": [
      "Variable containing:\n",
      " 5.7572\n",
      "[torch.FloatTensor of size 1]\n",
      "\n",
      "Variable containing:\n",
      "(0 ,.,.) = \n",
      "  0  1  0\n",
      "\n",
      "(1 ,.,.) = \n",
      "  0  1  0\n",
      "\n",
      "(2 ,.,.) = \n",
      "  1  0  0\n",
      "\n",
      "(3 ,.,.) = \n",
      "  0  1  0\n",
      "\n",
      "(4 ,.,.) = \n",
      "  0  1  0\n",
      "[torch.FloatTensor of size 5x1x3]\n",
      "\n",
      "Variable containing:\n",
      " 2\n",
      " 1\n",
      " 2\n",
      " 1\n",
      " 2\n",
      "[torch.IntTensor of size 5]\n",
      "\n"
     ]
    }
   ],
   "source": [
    "ctc_loss = CTCLoss()\n",
    "# expected shape of seqLength x batchSize x alphabet_size\n",
    "_0 = [1., 0, 0]\n",
    "_1 = [0, 1., 0]\n",
    "_2 = [0, 0, 1.]\n",
    "\n",
    "probs = torch.FloatTensor([[ _1, _1, _0, _1, _1,]]).transpose(0, 1).contiguous()\n",
    "labels = Variable(torch.IntTensor([2, 1, 2, 1import torch as th\n",
    "import torch.nn as nn\n",
    "import torch.nn.functional as F\n",
    "from torch.autograd import Variable\n",
    "\n",
    "from torch.utils.data import DataLoader\n",
    "from torch.utils.data.sampler import SubsetRandomSampler\n",
    "import torch.optim as optim\n",
    "from collections import OrderedDict\n",
    "import itertools\n",
    "\n",
    "import os\n",
    "from torchvision import datasets, transforms, models\n",
    "\n",
    "from fishdataset import SeqDataset, SubsetSampler,collate_seqs\n",
    "from sklearn.model_selection import train_test_split\n",
    "import argparse\n",
    "import pandas as pd\n",
    "import numpy as np\n",
    "from masked_cross_entropy import compute_loss\n",
    ", 2]))\n",
    "# 1 2 -> 11 22, 1112,2221,1_\n",
    "\n",
    "#probs = torch.FloatTensor([[[1,2,3,4,5], [6,7,8,9,10], [11,12,13,14,15]]]).transpose(0, 1).contiguous()\n",
    "#labels = Variable(torch.IntTensor([0,3]))\n",
    "label_sizes = Variable(torch.IntTensor([5]))\n",
    "probs_sizes = Variable(torch.IntTensor([5]))\n",
    "probs = Variable(probs, requires_grad=True) # tells autograd to compute gradients for probs\n",
    "cost = ctc_loss(probs, labels, probs_sizes, label_sizes)\n",
    "cost.backward()\n",
    "print(cost)\n",
    "print(probs)\n",
    "print(labels)"
   ]
  },
  {
   "cell_type": "code",
   "execution_count": 18,
   "metadata": {},
   "outputs": [
    {
     "data": {
      "text/plain": [
       "Variable containing:\n",
       " 0\n",
       "[torch.FloatTensor of size 1]"
      ]
     },
     "execution_count": 18,
     "metadata": {},
     "output_type": "execute_result"
    }
   ],
   "source": [
    "cost"
   ]
  },
  {
   "cell_type": "code",
   "execution_count": 37,
   "metadata": {},
   "outputs": [
    {
     "name": "stdout",
     "output_type": "stream",
     "text": [
      "\n",
      " 18  21  24  27  30\n",
      "[torch.FloatTensor of size 1x5]\n",
      "\n",
      "(Variable containing:\n",
      " 0.0117  0.0317  0.0861  0.2341  0.6364\n",
      "[torch.FloatTensor of size 1x5]\n",
      ", Variable containing:\n",
      " 0.0117  0.0317  0.0861  0.2341  0.6364\n",
      "[torch.FloatTensor of size 1x5]\n",
      ", Variable containing:\n",
      " 0.0117  0.0317  0.0861  0.2341  0.6364\n",
      "[torch.FloatTensor of size 1x5]\n",
      ")\n"
     ]
    }
   ],
   "source": [
    "a = torch.FloatTensor([1,2,3,4,5]).unsqueeze(dim=0)\n",
    "b = torch.FloatTensor([6,7,8,9,10]).unsqueeze(dim=0)\n",
    "c = torch.FloatTensor([11,12,13,14,15]).unsqueeze(dim=0)\n",
    "t = (a+b+c)\n",
    "print(t)\n",
    "print(torch.nn.Softmax()(a), torch.nn.Softmax()(b), torch.nn.Softmax()(c))"
   ]
  },
  {
   "cell_type": "code",
   "execution_count": 13,
   "metadata": {
    "collapsed": true
   },
   "outputs": [],
   "source": [
    "import torch as th\n",
    "import torch.nn as nn\n",
    "import torch.nn.functional as F\n",
    "from torch.autograd import Variable\n",
    "\n",
    "from torch.utils.data import DataLoader\n",
    "from torch.utils.data.sampler import SubsetRandomSampler\n",
    "import torch.optim as optim\n",
    "from collections import OrderedDict\n",
    "import itertools\n",
    "\n",
    "import os\n",
    "from torchvision import datasets, transforms, models\n",
    "\n",
    "from fishdataset import SeqDataset, SubsetSampler,collate_seqs\n",
    "from sklearn.model_selection import train_test_split\n",
    "import argparse\n",
    "import pandas as pd\n",
    "import numpy as np\n",
    "from masked_cross_entropy import compute_loss\n"
   ]
  },
  {
   "cell_type": "code",
   "execution_count": 14,
   "metadata": {},
   "outputs": [
    {
     "name": "stdout",
     "output_type": "stream",
     "text": [
      "Index([u'00WK7DR6FyPZ5u3A', u'01wO3HNwawJYADQw', u'02p3Yn87z0b5grhL',\n",
      "       u'05RagNzyjVdXeUFR', u'06aFbpjpYHVBLJZa', u'09GA0YdSz0NvJUJx',\n",
      "       u'0D5zA3WRD5pXjr8j', u'0EmM5wsVVNqaKNaM', u'0L5wBDT4CEazgAw6',\n",
      "       u'0QAlqRiUad7xcB9k',\n",
      "       ...\n",
      "       u'zXZSvmqfqvnwJgn1', u'zZCiaXh6FllAYILs', u'zdwVt8U2VF8pzpsy',\n",
      "       u'zgjGuS2fRDKbmb5x', u'ziSjGcGfbowUyuBO', u'zmYfc0lC2MQ3gfrW',\n",
      "       u'zmYmO0WstvQIl19P', u'zqWCbHoUPI9lMVBK', u'zrqy3XarL6jSoraK',\n",
      "       u'zxjr6V8bFiFHxpNU'],\n",
      "      dtype='object', name=u'video_id', length=1332)\n",
      "Index([u'00WK7DR6FyPZ5u3A', u'01wO3HNwawJYADQw', u'02p3Yn87z0b5grhL',\n",
      "       u'05RagNzyjVdXeUFR', u'06aFbpjpYHVBLJZa', u'09GA0YdSz0NvJUJx',\n",
      "       u'0D5zA3WRD5pXjr8j', u'0EmM5wsVVNqaKNaM', u'0L5wBDT4CEazgAw6',\n",
      "       u'0QAlqRiUad7xcB9k',\n",
      "       ...\n",
      "       u'zXZSvmqfqvnwJgn1', u'zZCiaXh6FllAYILs', u'zdwVt8U2VF8pzpsy',\n",
      "       u'zgjGuS2fRDKbmb5x', u'ziSjGcGfbowUyuBO', u'zmYfc0lC2MQ3gfrW',\n",
      "       u'zmYmO0WstvQIl19P', u'zqWCbHoUPI9lMVBK', u'zrqy3XarL6jSoraK',\n",
      "       u'zxjr6V8bFiFHxpNU'],\n",
      "      dtype='object', name=u'video_id', length=1332)\n",
      "6176\n",
      "6175\n"
     ]
    }
   ],
   "source": [
    "\n",
    "TRAIN_X_CSV = 'train_crops_X.csv'\n",
    "TRAIN_Y_CSV = 'train_crops_Y.csv'\n",
    "\n",
    "dataset = SeqDataset(\n",
    "        X_csv_file=TRAIN_X_CSV,\n",
    "        Y_csv_file=TRAIN_Y_CSV,\n",
    "        return_numpy=False\n",
    "        )"
   ]
  },
  {
   "cell_type": "code",
   "execution_count": 15,
   "metadata": {
    "collapsed": true
   },
   "outputs": [],
   "source": [
    "idx_train, idx_valid = train_test_split(range(len(dataset)), test_size=0.1, random_state=42)\n",
    "train_sampler = SubsetRandomSampler(idx_train[:])\n",
    "valid_sampler = SubsetRandomSampler(idx_valid[:])"
   ]
  },
  {
   "cell_type": "code",
   "execution_count": 18,
   "metadata": {
    "collapsed": true
   },
   "outputs": [],
   "source": [
    "train_loader = DataLoader(dataset,\n",
    "                      batch_size=1,\n",
    "                      sampler=train_sampler,\n",
    "                      num_workers=4,\n",
    "                      collate_fn= collate_seqs,\n",
    "                      pin_memory=True if th.cuda.is_available() else False)\n",
    "\n",
    "valid_loader = DataLoader(dataset,\n",
    "                      batch_size=1,\n",
    "                      sampler=valid_sampler,\n",
    "                      num_workers=4,\n",
    "                      collate_fn= collate_seqs,\n",
    "                      pin_memory=True if th.cuda.is_available() else False)"
   ]
  },
  {
   "cell_type": "code",
   "execution_count": 24,
   "metadata": {
    "collapsed": true
   },
   "outputs": [],
   "source": [
    "x,y=next(iter(train_loader))"
   ]
  },
  {
   "cell_type": "code",
   "execution_count": 25,
   "metadata": {},
   "outputs": [
    {
     "data": {
      "text/plain": [
       "[\n",
       "  8.2564e-16  1.6611e-16  2.0235e-15  ...   1.0000e+00  1.2930e-14  4.4377e-12\n",
       "  8.3563e-17  4.0882e-17  6.2200e-16  ...   1.0000e+00  5.5719e-15  5.2037e-14\n",
       "  4.5200e-18  6.2748e-16  4.8571e-17  ...   1.0000e+00  2.8652e-14  7.4439e-14\n",
       "                 ...                   ⋱                   ...                \n",
       "  5.5803e-12  3.4328e-13  9.4222e-14  ...   1.0000e+00  5.3096e-12  1.4740e-11\n",
       "  1.2803e-09  4.4093e-12  4.4455e-13  ...   1.0000e+00  5.3439e-12  2.9853e-10\n",
       "  5.5100e-12  4.9906e-14  4.2687e-14  ...   1.0000e+00  1.4950e-12  6.7717e-12\n",
       " [torch.FloatTensor of size 2913x8]]"
      ]
     },
     "execution_count": 25,
     "metadata": {},
     "output_type": "execute_result"
    }
   ],
   "source": [
    "x"
   ]
  },
  {
   "cell_type": "code",
   "execution_count": 29,
   "metadata": {
    "collapsed": true
   },
   "outputs": [],
   "source": [
    "y=y[0][:,8]"
   ]
  },
  {
   "cell_type": "code",
   "execution_count": 30,
   "metadata": {},
   "outputs": [
    {
     "data": {
      "text/plain": [
       "\n",
       "   1\n",
       "   1\n",
       "   1\n",
       " ⋮  \n",
       " 110\n",
       " 110\n",
       " 110\n",
       "[torch.FloatTensor of size 2913]"
      ]
     },
     "execution_count": 30,
     "metadata": {},
     "output_type": "execute_result"
    }
   ],
   "source": [
    "y"
   ]
  },
  {
   "cell_type": "code",
   "execution_count": 33,
   "metadata": {},
   "outputs": [
    {
     "data": {
      "text/plain": [
       "array([   1.,    1.,    1., ...,  110.,  110.,  110.], dtype=float32)"
      ]
     },
     "execution_count": 33,
     "metadata": {},
     "output_type": "execute_result"
    }
   ],
   "source": [
    "y.numpy()"
   ]
  },
  {
   "cell_type": "code",
   "execution_count": 35,
   "metadata": {
    "collapsed": true
   },
   "outputs": [],
   "source": [
    "_, u = np.unique(y.numpy(), return_counts=True)"
   ]
  },
  {
   "cell_type": "code",
   "execution_count": 36,
   "metadata": {},
   "outputs": [
    {
     "data": {
      "text/plain": [
       "array([ 21,  23,  22,  25,  20, 165,  18,  17,  31,  19,  21,  23,  18,\n",
       "        19,  25,  26,  23,  26, 143,  26,  21,  22,  21,  19,  19,  24,\n",
       "        22,  26,  23,  23,  24,  32,  22,  20,  26,  26,  55,  19,  20,\n",
       "        19,  21,  21,  23,  18,  20,  23,  24,  20,  26,  22,  20,  22,\n",
       "        20,  20,  19,  22,  21,  24,  26,  18,  20,  21,  25,  39,  20,\n",
       "        21,  24,  34, 129,  19,  20,  25,  20,  24,  22,  19,  19,  20,\n",
       "        18,  23,  24,  26,  41,  27,  17,  19,  25,  23,  27,  19,  22,\n",
       "        21,  18,  23,  18,  22,  20,  22,  24,  16,  24,  25,  21,  35,\n",
       "        28,  68,  23,  25,  20,   4])"
      ]
     },
     "execution_count": 36,
     "metadata": {},
     "output_type": "execute_result"
    }
   ],
   "source": [
    "u"
   ]
  },
  {
   "cell_type": "code",
   "execution_count": 37,
   "metadata": {},
   "outputs": [
    {
     "data": {
      "text/plain": [
       "2913"
      ]
     },
     "execution_count": 37,
     "metadata": {},
     "output_type": "execute_result"
    }
   ],
   "source": [
    "u.sum()"
   ]
  },
  {
   "cell_type": "code",
   "execution_count": 45,
   "metadata": {
    "collapsed": true
   },
   "outputs": [],
   "source": [
    "i = 0\n",
    "saw = np.empty([u.sum()], dtype=np.float32)\n",
    "for r in u:\n",
    "    saw[i:i+r] = np.linspace(1,0,r)\n",
    "    i += r"
   ]
  },
  {
   "cell_type": "code",
   "execution_count": 46,
   "metadata": {},
   "outputs": [
    {
     "data": {
      "text/plain": [
       "array([ 1.        ,  0.94999999,  0.89999998, ...,  0.66666669,\n",
       "        0.33333334,  0.        ], dtype=float32)"
      ]
     },
     "execution_count": 46,
     "metadata": {},
     "output_type": "execute_result"
    }
   ],
   "source": [
    "saw"
   ]
  },
  {
   "cell_type": "code",
   "execution_count": 48,
   "metadata": {},
   "outputs": [
    {
     "data": {
      "text/plain": [
       "[<matplotlib.lines.Line2D at 0x7f56ad453850>]"
      ]
     },
     "execution_count": 48,
     "metadata": {},
     "output_type": "execute_result"
    },
    {
     "data": {
      "image/png": "[encoded data removed]",
      "text/plain": [
       "<matplotlib.figure.Figure at 0x7f56ad55a150>"
      ]
     },
     "metadata": {},
     "output_type": "display_data"
    }
   ],
   "source": [
    "plt.plot(saw[:100])"
   ]
  },
  {
   "cell_type": "code",
   "execution_count": 52,
   "metadata": {},
   "outputs": [
    {
     "data": {
      "text/plain": [
       "\n",
       "-1.0041  0.0625\n",
       "-1.2722 -2.6096\n",
       " 0.3727 -2.4727\n",
       "-4.2572  0.6895\n",
       " 0.3473 -1.9943\n",
       "-3.4614  2.2615\n",
       "-0.9871  0.1445\n",
       "-0.2238 -0.7499\n",
       " 0.1066  1.2482\n",
       " 2.5104  2.7552\n",
       "[torch.FloatTensor of size 10x2]"
      ]
     },
     "execution_count": 52,
     "metadata": {},
     "output_type": "execute_result"
    }
   ],
   "source": [
    "a = th.randn(10,2)\n",
    "b = th.randn(10,2)\n",
    "a+b"
   ]
  },
  {
   "cell_type": "code",
   "execution_count": 56,
   "metadata": {},
   "outputs": [
    {
     "data": {
      "text/plain": [
       "\n",
       " 1.1524\n",
       " 2.6862\n",
       " 1.0201\n",
       " 2.4475\n",
       " 2.1181\n",
       " 1.0403\n",
       " 0.5737\n",
       " 1.5965\n",
       " 1.7965\n",
       " 0.3405\n",
       "[torch.FloatTensor of size 10]"
      ]
     },
     "execution_count": 56,
     "metadata": {},
     "output_type": "execute_result"
    }
   ],
   "source": [
    "th.norm(a-b,2, dim=1)"
   ]
  },
  {
   "cell_type": "code",
   "execution_count": null,
   "metadata": {
    "collapsed": true
   },
   "outputs": [],
   "source": []
  }
 ],
 "metadata": {
  "kernelspec": {
   "display_name": "Python 2",
   "language": "python",
   "name": "python2"
  },
  "language_info": {
   "codemirror_mode": {
    "name": "ipython",
    "version": 2
   },
   "file_extension": ".py",
   "mimetype": "text/x-python",
   "name": "python",
   "nbconvert_exporter": "python",
   "pygments_lexer": "ipython2",
   "version": "2.7.12"
  }
 },
 "nbformat": 4,
 "nbformat_minor": 2
}
